{
  "nbformat": 4,
  "nbformat_minor": 0,
  "metadata": {
    "colab": {
      "provenance": [],
      "toc_visible": true,
      "gpuType": "T4"
    },
    "kernelspec": {
      "name": "python3",
      "display_name": "Python 3"
    },
    "language_info": {
      "name": "python"
    },
    "accelerator": "GPU"
  },
  "cells": [
    {
      "cell_type": "markdown",
      "source": [
        "# Data Scrapping"
      ],
      "metadata": {
        "id": "yknASUjRfSJc"
      }
    },
    {
      "cell_type": "markdown",
      "source": [
        "## Import libraries"
      ],
      "metadata": {
        "id": "XT_HUndUAuSH"
      }
    },
    {
      "cell_type": "code",
      "source": [
        "!pip install deeplake"
      ],
      "metadata": {
        "colab": {
          "base_uri": "https://localhost:8080/",
          "height": 1000
        },
        "id": "t7WuV-o7GsEd",
        "outputId": "63dce038-1382-4f62-af4c-3b4b1cf22f62",
        "collapsed": true
      },
      "execution_count": 2,
      "outputs": [
        {
          "output_type": "stream",
          "name": "stdout",
          "text": [
            "Collecting deeplake\n",
            "  Downloading deeplake-3.9.6.tar.gz (590 kB)\n",
            "\u001b[2K     \u001b[90m━━━━━━━━━━━━━━━━━━━━━━━━━━━━━━━━━━━━━━━━\u001b[0m \u001b[32m590.7/590.7 kB\u001b[0m \u001b[31m6.8 MB/s\u001b[0m eta \u001b[36m0:00:00\u001b[0m\n",
            "\u001b[?25h  Installing build dependencies ... \u001b[?25l\u001b[?25hdone\n",
            "  Getting requirements to build wheel ... \u001b[?25l\u001b[?25hdone\n",
            "  Preparing metadata (pyproject.toml) ... \u001b[?25l\u001b[?25hdone\n",
            "Requirement already satisfied: numpy in /usr/local/lib/python3.10/dist-packages (from deeplake) (1.25.2)\n",
            "Collecting pillow~=10.2.0 (from deeplake)\n",
            "  Downloading pillow-10.2.0-cp310-cp310-manylinux_2_28_x86_64.whl (4.5 MB)\n",
            "\u001b[2K     \u001b[90m━━━━━━━━━━━━━━━━━━━━━━━━━━━━━━━━━━━━━━━━\u001b[0m \u001b[32m4.5/4.5 MB\u001b[0m \u001b[31m52.6 MB/s\u001b[0m eta \u001b[36m0:00:00\u001b[0m\n",
            "\u001b[?25hCollecting boto3 (from deeplake)\n",
            "  Downloading boto3-1.34.106-py3-none-any.whl (139 kB)\n",
            "\u001b[2K     \u001b[90m━━━━━━━━━━━━━━━━━━━━━━━━━━━━━━━━━━━━━━━━\u001b[0m \u001b[32m139.3/139.3 kB\u001b[0m \u001b[31m15.5 MB/s\u001b[0m eta \u001b[36m0:00:00\u001b[0m\n",
            "\u001b[?25hRequirement already satisfied: click in /usr/local/lib/python3.10/dist-packages (from deeplake) (8.1.7)\n",
            "Collecting pathos (from deeplake)\n",
            "  Downloading pathos-0.3.2-py3-none-any.whl (82 kB)\n",
            "\u001b[2K     \u001b[90m━━━━━━━━━━━━━━━━━━━━━━━━━━━━━━━━━━━━━━━━\u001b[0m \u001b[32m82.1/82.1 kB\u001b[0m \u001b[31m9.7 MB/s\u001b[0m eta \u001b[36m0:00:00\u001b[0m\n",
            "\u001b[?25hCollecting humbug>=0.3.1 (from deeplake)\n",
            "  Downloading humbug-0.3.2-py3-none-any.whl (15 kB)\n",
            "Requirement already satisfied: tqdm in /usr/local/lib/python3.10/dist-packages (from deeplake) (4.66.4)\n",
            "Collecting lz4 (from deeplake)\n",
            "  Downloading lz4-4.3.3-cp310-cp310-manylinux_2_17_x86_64.manylinux2014_x86_64.whl (1.3 MB)\n",
            "\u001b[2K     \u001b[90m━━━━━━━━━━━━━━━━━━━━━━━━━━━━━━━━━━━━━━━━\u001b[0m \u001b[32m1.3/1.3 MB\u001b[0m \u001b[31m63.6 MB/s\u001b[0m eta \u001b[36m0:00:00\u001b[0m\n",
            "\u001b[?25hRequirement already satisfied: pyjwt in /usr/lib/python3/dist-packages (from deeplake) (2.3.0)\n",
            "Requirement already satisfied: pydantic in /usr/local/lib/python3.10/dist-packages (from deeplake) (2.7.1)\n",
            "Collecting libdeeplake==0.0.129 (from deeplake)\n",
            "  Downloading libdeeplake-0.0.129-cp310-cp310-manylinux_2_28_x86_64.whl (16.3 MB)\n",
            "\u001b[2K     \u001b[90m━━━━━━━━━━━━━━━━━━━━━━━━━━━━━━━━━━━━━━━━\u001b[0m \u001b[32m16.3/16.3 MB\u001b[0m \u001b[31m71.6 MB/s\u001b[0m eta \u001b[36m0:00:00\u001b[0m\n",
            "\u001b[?25hCollecting aioboto3>=10.4.0 (from deeplake)\n",
            "  Downloading aioboto3-12.4.0-py3-none-any.whl (32 kB)\n",
            "Requirement already satisfied: nest-asyncio in /usr/local/lib/python3.10/dist-packages (from deeplake) (1.6.0)\n",
            "Collecting dill (from libdeeplake==0.0.129->deeplake)\n",
            "  Downloading dill-0.3.8-py3-none-any.whl (116 kB)\n",
            "\u001b[2K     \u001b[90m━━━━━━━━━━━━━━━━━━━━━━━━━━━━━━━━━━━━━━━━\u001b[0m \u001b[32m116.3/116.3 kB\u001b[0m \u001b[31m16.6 MB/s\u001b[0m eta \u001b[36m0:00:00\u001b[0m\n",
            "\u001b[?25hCollecting aiobotocore[boto3]==2.12.3 (from aioboto3>=10.4.0->deeplake)\n",
            "  Downloading aiobotocore-2.12.3-py3-none-any.whl (76 kB)\n",
            "\u001b[2K     \u001b[90m━━━━━━━━━━━━━━━━━━━━━━━━━━━━━━━━━━━━━━━━\u001b[0m \u001b[32m76.5/76.5 kB\u001b[0m \u001b[31m10.5 MB/s\u001b[0m eta \u001b[36m0:00:00\u001b[0m\n",
            "\u001b[?25hCollecting botocore<1.34.70,>=1.34.41 (from aiobotocore[boto3]==2.12.3->aioboto3>=10.4.0->deeplake)\n",
            "  Downloading botocore-1.34.69-py3-none-any.whl (12.0 MB)\n",
            "\u001b[2K     \u001b[90m━━━━━━━━━━━━━━━━━━━━━━━━━━━━━━━━━━━━━━━━\u001b[0m \u001b[32m12.0/12.0 MB\u001b[0m \u001b[31m85.4 MB/s\u001b[0m eta \u001b[36m0:00:00\u001b[0m\n",
            "\u001b[?25hRequirement already satisfied: aiohttp<4.0.0,>=3.7.4.post0 in /usr/local/lib/python3.10/dist-packages (from aiobotocore[boto3]==2.12.3->aioboto3>=10.4.0->deeplake) (3.9.5)\n",
            "Requirement already satisfied: wrapt<2.0.0,>=1.10.10 in /usr/local/lib/python3.10/dist-packages (from aiobotocore[boto3]==2.12.3->aioboto3>=10.4.0->deeplake) (1.14.1)\n",
            "Collecting aioitertools<1.0.0,>=0.5.1 (from aiobotocore[boto3]==2.12.3->aioboto3>=10.4.0->deeplake)\n",
            "  Downloading aioitertools-0.11.0-py3-none-any.whl (23 kB)\n",
            "Collecting boto3 (from deeplake)\n",
            "  Downloading boto3-1.34.69-py3-none-any.whl (139 kB)\n",
            "\u001b[2K     \u001b[90m━━━━━━━━━━━━━━━━━━━━━━━━━━━━━━━━━━━━━━━━\u001b[0m \u001b[32m139.3/139.3 kB\u001b[0m \u001b[31m18.6 MB/s\u001b[0m eta \u001b[36m0:00:00\u001b[0m\n",
            "\u001b[?25hCollecting jmespath<2.0.0,>=0.7.1 (from boto3->deeplake)\n",
            "  Downloading jmespath-1.0.1-py3-none-any.whl (20 kB)\n",
            "Collecting s3transfer<0.11.0,>=0.10.0 (from boto3->deeplake)\n",
            "  Downloading s3transfer-0.10.1-py3-none-any.whl (82 kB)\n",
            "\u001b[2K     \u001b[90m━━━━━━━━━━━━━━━━━━━━━━━━━━━━━━━━━━━━━━━━\u001b[0m \u001b[32m82.2/82.2 kB\u001b[0m \u001b[31m10.2 MB/s\u001b[0m eta \u001b[36m0:00:00\u001b[0m\n",
            "\u001b[?25hRequirement already satisfied: requests in /usr/local/lib/python3.10/dist-packages (from humbug>=0.3.1->deeplake) (2.31.0)\n",
            "Collecting ppft>=1.7.6.8 (from pathos->deeplake)\n",
            "  Downloading ppft-1.7.6.8-py3-none-any.whl (56 kB)\n",
            "\u001b[2K     \u001b[90m━━━━━━━━━━━━━━━━━━━━━━━━━━━━━━━━━━━━━━━━\u001b[0m \u001b[32m56.8/56.8 kB\u001b[0m \u001b[31m7.1 MB/s\u001b[0m eta \u001b[36m0:00:00\u001b[0m\n",
            "\u001b[?25hCollecting pox>=0.3.4 (from pathos->deeplake)\n",
            "  Downloading pox-0.3.4-py3-none-any.whl (29 kB)\n",
            "Collecting multiprocess>=0.70.16 (from pathos->deeplake)\n",
            "  Downloading multiprocess-0.70.16-py310-none-any.whl (134 kB)\n",
            "\u001b[2K     \u001b[90m━━━━━━━━━━━━━━━━━━━━━━━━━━━━━━━━━━━━━━━━\u001b[0m \u001b[32m134.8/134.8 kB\u001b[0m \u001b[31m15.5 MB/s\u001b[0m eta \u001b[36m0:00:00\u001b[0m\n",
            "\u001b[?25hRequirement already satisfied: annotated-types>=0.4.0 in /usr/local/lib/python3.10/dist-packages (from pydantic->deeplake) (0.6.0)\n",
            "Requirement already satisfied: pydantic-core==2.18.2 in /usr/local/lib/python3.10/dist-packages (from pydantic->deeplake) (2.18.2)\n",
            "Requirement already satisfied: typing-extensions>=4.6.1 in /usr/local/lib/python3.10/dist-packages (from pydantic->deeplake) (4.11.0)\n",
            "Requirement already satisfied: python-dateutil<3.0.0,>=2.1 in /usr/local/lib/python3.10/dist-packages (from botocore<1.34.70,>=1.34.41->aiobotocore[boto3]==2.12.3->aioboto3>=10.4.0->deeplake) (2.8.2)\n",
            "Requirement already satisfied: urllib3!=2.2.0,<3,>=1.25.4 in /usr/local/lib/python3.10/dist-packages (from botocore<1.34.70,>=1.34.41->aiobotocore[boto3]==2.12.3->aioboto3>=10.4.0->deeplake) (2.0.7)\n",
            "Requirement already satisfied: charset-normalizer<4,>=2 in /usr/local/lib/python3.10/dist-packages (from requests->humbug>=0.3.1->deeplake) (3.3.2)\n",
            "Requirement already satisfied: idna<4,>=2.5 in /usr/local/lib/python3.10/dist-packages (from requests->humbug>=0.3.1->deeplake) (3.7)\n",
            "Requirement already satisfied: certifi>=2017.4.17 in /usr/local/lib/python3.10/dist-packages (from requests->humbug>=0.3.1->deeplake) (2024.2.2)\n",
            "Requirement already satisfied: aiosignal>=1.1.2 in /usr/local/lib/python3.10/dist-packages (from aiohttp<4.0.0,>=3.7.4.post0->aiobotocore[boto3]==2.12.3->aioboto3>=10.4.0->deeplake) (1.3.1)\n",
            "Requirement already satisfied: attrs>=17.3.0 in /usr/local/lib/python3.10/dist-packages (from aiohttp<4.0.0,>=3.7.4.post0->aiobotocore[boto3]==2.12.3->aioboto3>=10.4.0->deeplake) (23.2.0)\n",
            "Requirement already satisfied: frozenlist>=1.1.1 in /usr/local/lib/python3.10/dist-packages (from aiohttp<4.0.0,>=3.7.4.post0->aiobotocore[boto3]==2.12.3->aioboto3>=10.4.0->deeplake) (1.4.1)\n",
            "Requirement already satisfied: multidict<7.0,>=4.5 in /usr/local/lib/python3.10/dist-packages (from aiohttp<4.0.0,>=3.7.4.post0->aiobotocore[boto3]==2.12.3->aioboto3>=10.4.0->deeplake) (6.0.5)\n",
            "Requirement already satisfied: yarl<2.0,>=1.0 in /usr/local/lib/python3.10/dist-packages (from aiohttp<4.0.0,>=3.7.4.post0->aiobotocore[boto3]==2.12.3->aioboto3>=10.4.0->deeplake) (1.9.4)\n",
            "Requirement already satisfied: async-timeout<5.0,>=4.0 in /usr/local/lib/python3.10/dist-packages (from aiohttp<4.0.0,>=3.7.4.post0->aiobotocore[boto3]==2.12.3->aioboto3>=10.4.0->deeplake) (4.0.3)\n",
            "Requirement already satisfied: six>=1.5 in /usr/local/lib/python3.10/dist-packages (from python-dateutil<3.0.0,>=2.1->botocore<1.34.70,>=1.34.41->aiobotocore[boto3]==2.12.3->aioboto3>=10.4.0->deeplake) (1.16.0)\n",
            "Building wheels for collected packages: deeplake\n",
            "  Building wheel for deeplake (pyproject.toml) ... \u001b[?25l\u001b[?25hdone\n",
            "  Created wheel for deeplake: filename=deeplake-3.9.6-py3-none-any.whl size=712524 sha256=6660088a8eddc752ed07fc34e5209a0e04b290c7ddd35fc465e9d7f0b20dbd6f\n",
            "  Stored in directory: /root/.cache/pip/wheels/d2/3b/fc/ad3c624c31935374e7be0c59c3868952a2a900828ef73104ac\n",
            "Successfully built deeplake\n",
            "Installing collected packages: ppft, pox, pillow, lz4, jmespath, dill, aioitertools, multiprocess, libdeeplake, humbug, botocore, s3transfer, pathos, aiobotocore, boto3, aioboto3, deeplake\n",
            "  Attempting uninstall: pillow\n",
            "    Found existing installation: Pillow 9.4.0\n",
            "    Uninstalling Pillow-9.4.0:\n",
            "      Successfully uninstalled Pillow-9.4.0\n",
            "\u001b[31mERROR: pip's dependency resolver does not currently take into account all the packages that are installed. This behaviour is the source of the following dependency conflicts.\n",
            "imageio 2.31.6 requires pillow<10.1.0,>=8.3.2, but you have pillow 10.2.0 which is incompatible.\u001b[0m\u001b[31m\n",
            "\u001b[0mSuccessfully installed aioboto3-12.4.0 aiobotocore-2.12.3 aioitertools-0.11.0 boto3-1.34.69 botocore-1.34.69 deeplake-3.9.6 dill-0.3.8 humbug-0.3.2 jmespath-1.0.1 libdeeplake-0.0.129 lz4-4.3.3 multiprocess-0.70.16 pathos-0.3.2 pillow-10.2.0 pox-0.3.4 ppft-1.7.6.8 s3transfer-0.10.1\n"
          ]
        },
        {
          "output_type": "display_data",
          "data": {
            "application/vnd.colab-display-data+json": {
              "pip_warning": {
                "packages": [
                  "PIL"
                ]
              },
              "id": "9a219c62b4a04e9691a3407d15545db7"
            }
          },
          "metadata": {}
        }
      ]
    },
    {
      "cell_type": "code",
      "source": [
        "import numpy as np\n",
        "import pandas as pd\n",
        "import seaborn as sns\n",
        "import matplotlib.pyplot as plt\n",
        "import deeplake\n",
        "import os\n",
        "\n",
        "\n",
        "from keras.preprocessing.image import ImageDataGenerator\n",
        "from keras.applications.densenet import DenseNet121\n",
        "from keras.layers import Dense, GlobalAveragePooling2D\n",
        "from keras.models import Model\n",
        "from keras import backend as K\n",
        "from torchvision import transforms, models\n",
        "from keras.models import load_model\n"
      ],
      "metadata": {
        "id": "EE-uGXWCCCup"
      },
      "execution_count": 1,
      "outputs": []
    },
    {
      "cell_type": "markdown",
      "source": [
        "## Scrapping the data"
      ],
      "metadata": {
        "id": "1kY2YBKJCWir"
      }
    },
    {
      "cell_type": "code",
      "execution_count": 2,
      "metadata": {
        "id": "akxkDkiTcsLo",
        "colab": {
          "base_uri": "https://localhost:8080/"
        },
        "outputId": "b75b3a86-6c1c-488a-d2c8-1b079a857b9b"
      },
      "outputs": [
        {
          "output_type": "stream",
          "name": "stderr",
          "text": [
            "\r\r"
          ]
        },
        {
          "output_type": "stream",
          "name": "stdout",
          "text": [
            "Opening dataset in read-only mode as you don't have write permissions.\n"
          ]
        },
        {
          "output_type": "stream",
          "name": "stderr",
          "text": [
            "\r\r/"
          ]
        },
        {
          "output_type": "stream",
          "name": "stdout",
          "text": [
            "This dataset can be visualized in Jupyter Notebook by ds.visualize() or at https://app.activeloop.ai/activeloop/nih-chest-xray-train\n",
            "\n"
          ]
        },
        {
          "output_type": "stream",
          "name": "stderr",
          "text": [
            "|"
          ]
        },
        {
          "output_type": "stream",
          "name": "stdout",
          "text": [
            "hub://activeloop/nih-chest-xray-train loaded successfully.\n",
            "\n"
          ]
        },
        {
          "output_type": "stream",
          "name": "stderr",
          "text": []
        },
        {
          "output_type": "stream",
          "name": "stdout",
          "text": [
            "Opening dataset in read-only mode as you don't have write permissions.\n"
          ]
        },
        {
          "output_type": "stream",
          "name": "stderr",
          "text": [
            "|"
          ]
        },
        {
          "output_type": "stream",
          "name": "stdout",
          "text": [
            "This dataset can be visualized in Jupyter Notebook by ds.visualize() or at https://app.activeloop.ai/activeloop/nih-chest-xray-test\n",
            "\n"
          ]
        },
        {
          "output_type": "stream",
          "name": "stderr",
          "text": [
            "\\"
          ]
        },
        {
          "output_type": "stream",
          "name": "stdout",
          "text": [
            "hub://activeloop/nih-chest-xray-test loaded successfully.\n",
            "\n"
          ]
        },
        {
          "output_type": "stream",
          "name": "stderr",
          "text": [
            "\r \r\r\r"
          ]
        }
      ],
      "source": [
        "ds_train = deeplake.load('hub://activeloop/nih-chest-xray-train')\n",
        "ds_test = deeplake.load('hub://activeloop/nih-chest-xray-test')"
      ]
    },
    {
      "cell_type": "code",
      "source": [
        "ds_train.visualize()"
      ],
      "metadata": {
        "colab": {
          "base_uri": "https://localhost:8080/",
          "height": 838
        },
        "id": "zWzYRhlwJCpV",
        "outputId": "ff8c4693-b491-4861-e04f-70df8977737e"
      },
      "execution_count": 3,
      "outputs": [
        {
          "output_type": "stream",
          "name": "stdout",
          "text": [
            "HINT: Please forward the port - 43433 to your local machine, if you are running on the cloud.\n"
          ]
        },
        {
          "output_type": "display_data",
          "data": {
            "text/plain": [
              "<IPython.lib.display.IFrame at 0x7b9854430ac0>"
            ],
            "text/html": [
              "\n",
              "        <iframe\n",
              "            width=\"90%\"\n",
              "            height=\"800\"\n",
              "            src=\"https://app.activeloop.ai/visualizer/hub?url=hub://activeloop/nih-chest-xray-train&token=PUBLIC_TOKEN_______________________________________________________________________________________________________________________________________________________\"\n",
              "            frameborder=\"0\"\n",
              "            allowfullscreen\n",
              "            \n",
              "        ></iframe>\n",
              "        "
            ]
          },
          "metadata": {}
        }
      ]
    },
    {
      "cell_type": "code",
      "source": [
        "ds_train.summary()"
      ],
      "metadata": {
        "colab": {
          "base_uri": "https://localhost:8080/"
        },
        "id": "_mo9AiQhJPP0",
        "outputId": "246bcf1f-8a49-4614-c3be-8eb704774897"
      },
      "execution_count": 4,
      "outputs": [
        {
          "output_type": "stream",
          "name": "stdout",
          "text": [
            " * Serving Flask app 'dataset_visualizer'\n",
            " * Debug mode: off\n",
            "Dataset(path='hub://activeloop/nih-chest-xray-train', read_only=True, tensors=['findings', 'images', 'metadata/follow_up_num', 'metadata/orig_img_h', 'metadata/orig_img_pix_spacing_x', 'metadata/orig_img_pix_spacing_y', 'metadata/orig_img_w', 'metadata/patient_age', 'metadata/patient_gender', 'metadata/patient_id', 'metadata/view_position'])\n",
            "\n",
            "             tensor                  htype              shape             dtype  compression\n",
            "             -------                -------            -------           -------  ------- \n",
            "            findings              class_label        (86524, 1:9)        uint32    None   \n",
            "             images                  image     (86524, 1024, 1024, 1:4)   uint8     png   \n",
            "     metadata/follow_up_num         generic           (86524, 1)          int32    None   \n",
            "       metadata/orig_img_h          generic           (86524, 1)         uint32    None   \n",
            " metadata/orig_img_pix_spacing_x    generic           (86524, 1)         float32   None   \n",
            " metadata/orig_img_pix_spacing_y    generic           (86524, 1)         float32   None   \n",
            "       metadata/orig_img_w          generic           (86524, 1)         uint32    None   \n",
            "      metadata/patient_age          generic           (86524, 1)          int32    None   \n",
            "     metadata/patient_gender      class_label         (86524, 1)         uint32    None   \n",
            "       metadata/patient_id          generic           (86524, 1)          int32    None   \n",
            "     metadata/view_position       class_label         (86524, 1)         uint32    None   \n"
          ]
        }
      ]
    },
    {
      "cell_type": "code",
      "source": [
        "ds_test.summary()"
      ],
      "metadata": {
        "colab": {
          "base_uri": "https://localhost:8080/"
        },
        "id": "sjSQH3UVO7QL",
        "outputId": "9fe7c65f-185d-4ee5-ddae-3c7934edfa42"
      },
      "execution_count": 5,
      "outputs": [
        {
          "output_type": "stream",
          "name": "stdout",
          "text": [
            "Dataset(path='hub://activeloop/nih-chest-xray-test', read_only=True, tensors=['images', 'findings', 'boxes/bbox', 'boxes/finding', 'metadata/patient_id', 'metadata/patient_age', 'metadata/patient_gender', 'metadata/follow_up_num', 'metadata/view_position', 'metadata/orig_img_w', 'metadata/orig_img_h', 'metadata/orig_img_pix_spacing_x', 'metadata/orig_img_pix_spacing_y'])\n",
            "\n",
            "             tensor                  htype              shape             dtype  compression\n",
            "             -------                -------            -------           -------  ------- \n",
            "             images                  image     (25596, 1024, 1024, 1:4)   uint8     png   \n",
            "            findings              class_label        (25596, 1:8)        uint32    None   \n",
            "           boxes/bbox                bbox          (25596, 0:4, 4)       float32   None   \n",
            "          boxes/finding           class_label        (25596, 0:4)        uint32    None   \n",
            "       metadata/patient_id          generic           (25596, 1)          int32    None   \n",
            "      metadata/patient_age          generic           (25596, 1)          int32    None   \n",
            "     metadata/patient_gender      class_label         (25596, 1)         uint32    None   \n",
            "     metadata/follow_up_num         generic           (25596, 1)          int32    None   \n",
            "     metadata/view_position       class_label         (25596, 1)         uint32    None   \n",
            "       metadata/orig_img_w          generic           (25596, 1)         uint32    None   \n",
            "       metadata/orig_img_h          generic           (25596, 1)         uint32    None   \n",
            " metadata/orig_img_pix_spacing_x    generic           (25596, 1)         float32   None   \n",
            " metadata/orig_img_pix_spacing_y    generic           (25596, 1)         float32   None   \n"
          ]
        }
      ]
    },
    {
      "cell_type": "code",
      "source": [
        "ds_train.findings[1].numpy()"
      ],
      "metadata": {
        "colab": {
          "base_uri": "https://localhost:8080/"
        },
        "id": "3JfGdrUNP-5F",
        "outputId": "750f93f3-2b80-448f-bc11-2e773be17b08"
      },
      "execution_count": 6,
      "outputs": [
        {
          "output_type": "execute_result",
          "data": {
            "text/plain": [
              "array([6, 2], dtype=uint32)"
            ]
          },
          "metadata": {},
          "execution_count": 6
        }
      ]
    },
    {
      "cell_type": "code",
      "source": [
        "# Indexing\n",
        "img = ds_train.images[0].numpy()              # Fetch the 1st image and return a NumPy array\n",
        "label = ds_train.findings[0].numpy(aslist=True) # Fetch the 1st label and store it as a\n",
        "                                        # as a list\n",
        "\n",
        "text_labels = ds_train.findings[1].data()['text'] # Fetch the first labels and return them as text\n",
        "\n",
        "# Slicing\n",
        "imgs = ds_train.images[0:100].numpy(aslist=True) # Fetch 100 images and return a NumPy array\n",
        "                                # The method above produces an exception if\n",
        "                                # the images are not all the same size\n",
        "\n",
        "labels = ds_train.findings[0:100].numpy(aslist=True) # Fetch 100 labels and store\n",
        "                                             # them as a list of NumPy arrays"
      ],
      "metadata": {
        "id": "4XPyXzLwQ4uy"
      },
      "execution_count": 7,
      "outputs": []
    },
    {
      "cell_type": "code",
      "source": [
        "age = ds_train.metadata.patient_age[5].data()['value']\n",
        "gender = ds_train.metadata.patient_gender[1].data()['text']\n",
        "position = ds_train.metadata.view_position[1].data()['text']"
      ],
      "metadata": {
        "id": "ERAuwkmuUGjh"
      },
      "execution_count": 8,
      "outputs": []
    },
    {
      "cell_type": "code",
      "source": [
        "print('finding is {}'.format(text_labels))\n",
        "print('age is {}'.format(age))\n",
        "print('gender is {}'.format(gender))\n",
        "print('position is {}'.format(position))"
      ],
      "metadata": {
        "colab": {
          "base_uri": "https://localhost:8080/"
        },
        "id": "m179fKnCUZPp",
        "outputId": "1bb52766-2690-4084-abab-45366e1b0a23"
      },
      "execution_count": 9,
      "outputs": [
        {
          "output_type": "stream",
          "name": "stdout",
          "text": [
            "finding is ['Cardiomegaly', 'Emphysema']\n",
            "age is [69]\n",
            "gender is ['M']\n",
            "position is ['PA']\n"
          ]
        }
      ]
    },
    {
      "cell_type": "markdown",
      "source": [
        "# Image Quality Assessment"
      ],
      "metadata": {
        "id": "owzK-bthYRm6"
      }
    },
    {
      "cell_type": "markdown",
      "source": [
        "## Load Model"
      ],
      "metadata": {
        "id": "QHXCgNhJoOdZ"
      }
    },
    {
      "cell_type": "code",
      "source": [
        "import torch\n",
        "import torch.nn as nn\n",
        "import torch.nn.functional as F\n",
        "\n",
        "# hyperparameters\n",
        "nc = 3 # number of channels\n",
        "nf = 64 # number of features to begin with\n",
        "dropout = 0.2\n",
        "device = torch.device('cuda' if torch.cuda.is_available() else 'cpu')\n",
        "\n",
        "# setup a resnet block and its forward function\n",
        "class ResNetBlock(nn.Module):\n",
        "    def __init__(self, in_channels, out_channels, stride=1):\n",
        "        super(ResNetBlock, self).__init__()\n",
        "        self.conv1 = nn.Conv2d(in_channels, out_channels, kernel_size=3, stride=stride, padding=1, bias=False)\n",
        "        self.bn1 = nn.BatchNorm2d(out_channels)\n",
        "        self.conv2 = nn.Conv2d(out_channels, out_channels, kernel_size=3, stride=1, padding=1, bias=False)\n",
        "        self.bn2 = nn.BatchNorm2d(out_channels)\n",
        "\n",
        "        self.shortcut = nn.Sequential()\n",
        "        if stride != 1 or in_channels != out_channels:\n",
        "            self.shortcut = nn.Sequential(\n",
        "                nn.Conv2d(in_channels, out_channels, kernel_size=1, stride=stride, bias=False),\n",
        "                nn.BatchNorm2d(out_channels)\n",
        "            )\n",
        "\n",
        "    def forward(self, x):\n",
        "        out = F.relu(self.bn1(self.conv1(x)))\n",
        "        out = self.bn2(self.conv2(out))\n",
        "        out += self.shortcut(x)\n",
        "        out = F.relu(out)\n",
        "        return out\n",
        "\n",
        "# setup the final model structure\n",
        "class XRayClassifier(nn.Module):\n",
        "    def __init__(self, nc=nc, nf=nf, dropout=dropout):\n",
        "        super(XRayClassifier, self).__init__()\n",
        "\n",
        "        self.resnet_blocks = nn.Sequential(\n",
        "            ResNetBlock(nc,   nf,    stride=2), # (B, C, H, W) -> (B, NF, H/2, W/2), i.e., (64,64,128,128)\n",
        "            ResNetBlock(nf,   nf*2,  stride=2), # (64,128,64,64)\n",
        "            ResNetBlock(nf*2, nf*4,  stride=2), # (64,256,32,32)\n",
        "            ResNetBlock(nf*4, nf*8,  stride=2), # (64,512,16,16)\n",
        "            ResNetBlock(nf*8, nf*16, stride=2), # (64,1024,8,8)\n",
        "        )\n",
        "\n",
        "        self.classifier = nn.Sequential(\n",
        "            nn.Conv2d(nf*16, 1, 8, 1, 0, bias=False),\n",
        "            nn.Dropout(p=dropout),\n",
        "            nn.Sigmoid(),\n",
        "        )\n",
        "\n",
        "    def forward(self, input):\n",
        "        output = self.resnet_blocks(input.to(device))\n",
        "        output = self.classifier(output)\n",
        "        return output"
      ],
      "metadata": {
        "id": "lD7hSfM3bPmm"
      },
      "execution_count": 10,
      "outputs": []
    },
    {
      "cell_type": "code",
      "source": [
        "model = XRayClassifier()\n",
        "model.to(device)\n",
        "model.eval()"
      ],
      "metadata": {
        "colab": {
          "base_uri": "https://localhost:8080/"
        },
        "id": "fCrZdyUQbT_0",
        "outputId": "49b9ea45-a7b1-4d1f-eb6f-610928b3aa75"
      },
      "execution_count": 11,
      "outputs": [
        {
          "output_type": "execute_result",
          "data": {
            "text/plain": [
              "XRayClassifier(\n",
              "  (resnet_blocks): Sequential(\n",
              "    (0): ResNetBlock(\n",
              "      (conv1): Conv2d(3, 64, kernel_size=(3, 3), stride=(2, 2), padding=(1, 1), bias=False)\n",
              "      (bn1): BatchNorm2d(64, eps=1e-05, momentum=0.1, affine=True, track_running_stats=True)\n",
              "      (conv2): Conv2d(64, 64, kernel_size=(3, 3), stride=(1, 1), padding=(1, 1), bias=False)\n",
              "      (bn2): BatchNorm2d(64, eps=1e-05, momentum=0.1, affine=True, track_running_stats=True)\n",
              "      (shortcut): Sequential(\n",
              "        (0): Conv2d(3, 64, kernel_size=(1, 1), stride=(2, 2), bias=False)\n",
              "        (1): BatchNorm2d(64, eps=1e-05, momentum=0.1, affine=True, track_running_stats=True)\n",
              "      )\n",
              "    )\n",
              "    (1): ResNetBlock(\n",
              "      (conv1): Conv2d(64, 128, kernel_size=(3, 3), stride=(2, 2), padding=(1, 1), bias=False)\n",
              "      (bn1): BatchNorm2d(128, eps=1e-05, momentum=0.1, affine=True, track_running_stats=True)\n",
              "      (conv2): Conv2d(128, 128, kernel_size=(3, 3), stride=(1, 1), padding=(1, 1), bias=False)\n",
              "      (bn2): BatchNorm2d(128, eps=1e-05, momentum=0.1, affine=True, track_running_stats=True)\n",
              "      (shortcut): Sequential(\n",
              "        (0): Conv2d(64, 128, kernel_size=(1, 1), stride=(2, 2), bias=False)\n",
              "        (1): BatchNorm2d(128, eps=1e-05, momentum=0.1, affine=True, track_running_stats=True)\n",
              "      )\n",
              "    )\n",
              "    (2): ResNetBlock(\n",
              "      (conv1): Conv2d(128, 256, kernel_size=(3, 3), stride=(2, 2), padding=(1, 1), bias=False)\n",
              "      (bn1): BatchNorm2d(256, eps=1e-05, momentum=0.1, affine=True, track_running_stats=True)\n",
              "      (conv2): Conv2d(256, 256, kernel_size=(3, 3), stride=(1, 1), padding=(1, 1), bias=False)\n",
              "      (bn2): BatchNorm2d(256, eps=1e-05, momentum=0.1, affine=True, track_running_stats=True)\n",
              "      (shortcut): Sequential(\n",
              "        (0): Conv2d(128, 256, kernel_size=(1, 1), stride=(2, 2), bias=False)\n",
              "        (1): BatchNorm2d(256, eps=1e-05, momentum=0.1, affine=True, track_running_stats=True)\n",
              "      )\n",
              "    )\n",
              "    (3): ResNetBlock(\n",
              "      (conv1): Conv2d(256, 512, kernel_size=(3, 3), stride=(2, 2), padding=(1, 1), bias=False)\n",
              "      (bn1): BatchNorm2d(512, eps=1e-05, momentum=0.1, affine=True, track_running_stats=True)\n",
              "      (conv2): Conv2d(512, 512, kernel_size=(3, 3), stride=(1, 1), padding=(1, 1), bias=False)\n",
              "      (bn2): BatchNorm2d(512, eps=1e-05, momentum=0.1, affine=True, track_running_stats=True)\n",
              "      (shortcut): Sequential(\n",
              "        (0): Conv2d(256, 512, kernel_size=(1, 1), stride=(2, 2), bias=False)\n",
              "        (1): BatchNorm2d(512, eps=1e-05, momentum=0.1, affine=True, track_running_stats=True)\n",
              "      )\n",
              "    )\n",
              "    (4): ResNetBlock(\n",
              "      (conv1): Conv2d(512, 1024, kernel_size=(3, 3), stride=(2, 2), padding=(1, 1), bias=False)\n",
              "      (bn1): BatchNorm2d(1024, eps=1e-05, momentum=0.1, affine=True, track_running_stats=True)\n",
              "      (conv2): Conv2d(1024, 1024, kernel_size=(3, 3), stride=(1, 1), padding=(1, 1), bias=False)\n",
              "      (bn2): BatchNorm2d(1024, eps=1e-05, momentum=0.1, affine=True, track_running_stats=True)\n",
              "      (shortcut): Sequential(\n",
              "        (0): Conv2d(512, 1024, kernel_size=(1, 1), stride=(2, 2), bias=False)\n",
              "        (1): BatchNorm2d(1024, eps=1e-05, momentum=0.1, affine=True, track_running_stats=True)\n",
              "      )\n",
              "    )\n",
              "  )\n",
              "  (classifier): Sequential(\n",
              "    (0): Conv2d(1024, 1, kernel_size=(8, 8), stride=(1, 1), bias=False)\n",
              "    (1): Dropout(p=0.2, inplace=False)\n",
              "    (2): Sigmoid()\n",
              "  )\n",
              ")"
            ]
          },
          "metadata": {},
          "execution_count": 11
        }
      ]
    },
    {
      "cell_type": "code",
      "source": [
        "model.resnet_blocks[-1]"
      ],
      "metadata": {
        "colab": {
          "base_uri": "https://localhost:8080/"
        },
        "id": "dlMEMZkLbbEg",
        "outputId": "96bd6d56-087b-4528-fbf0-4cf7fc9c64de"
      },
      "execution_count": 12,
      "outputs": [
        {
          "output_type": "execute_result",
          "data": {
            "text/plain": [
              "ResNetBlock(\n",
              "  (conv1): Conv2d(512, 1024, kernel_size=(3, 3), stride=(2, 2), padding=(1, 1), bias=False)\n",
              "  (bn1): BatchNorm2d(1024, eps=1e-05, momentum=0.1, affine=True, track_running_stats=True)\n",
              "  (conv2): Conv2d(1024, 1024, kernel_size=(3, 3), stride=(1, 1), padding=(1, 1), bias=False)\n",
              "  (bn2): BatchNorm2d(1024, eps=1e-05, momentum=0.1, affine=True, track_running_stats=True)\n",
              "  (shortcut): Sequential(\n",
              "    (0): Conv2d(512, 1024, kernel_size=(1, 1), stride=(2, 2), bias=False)\n",
              "    (1): BatchNorm2d(1024, eps=1e-05, momentum=0.1, affine=True, track_running_stats=True)\n",
              "  )\n",
              ")"
            ]
          },
          "metadata": {},
          "execution_count": 12
        }
      ]
    },
    {
      "cell_type": "markdown",
      "source": [
        "## Adding Backward and Forward Hook"
      ],
      "metadata": {
        "id": "kPiLuKS_bipH"
      }
    },
    {
      "cell_type": "code",
      "source": [
        "# defines two global scope variables to store our gradients and activations\n",
        "gradients = None\n",
        "activations = None\n",
        "\n",
        "def backward_hook(module, grad_input, grad_output):\n",
        "  global gradients # refers to the variable in the global scope\n",
        "  print('Backward hook running...')\n",
        "  gradients = grad_output\n",
        "  # In this case, we expect it to be torch.Size([batch size, 1024, 8, 8])\n",
        "  print(f'Gradients size: {gradients[0].size()}')\n",
        "  # We need the 0 index because the tensor containing the gradients comes\n",
        "  # inside a one element tuple.\n",
        "\n",
        "def forward_hook(module, args, output):\n",
        "  global activations # refers to the variable in the global scope\n",
        "  print('Forward hook running...')\n",
        "  activations = output\n",
        "  # In this case, we expect it to be torch.Size([batch size, 1024, 8, 8])\n",
        "  print(f'Activations size: {activations.size()}')"
      ],
      "metadata": {
        "id": "IJYSNvTvbmE-"
      },
      "execution_count": 13,
      "outputs": []
    },
    {
      "cell_type": "code",
      "source": [
        "backward_hook = model.resnet_blocks[-1].register_full_backward_hook(backward_hook, prepend=False)\n",
        "forward_hook = model.resnet_blocks[-1].register_forward_hook(forward_hook, prepend=False)"
      ],
      "metadata": {
        "id": "oftNoj0gbqOP"
      },
      "execution_count": 14,
      "outputs": []
    },
    {
      "cell_type": "markdown",
      "source": [
        "## Finding Gradient and Activation"
      ],
      "metadata": {
        "id": "7mNQmQspcMNd"
      }
    },
    {
      "cell_type": "code",
      "source": [
        "from PIL import Image\n",
        "import numpy as np\n",
        "\n",
        "rand = np.random.randint(0, 100)  # Random number between 0 and 100\n",
        "\n",
        "# Convert Array to Image\n",
        "image = Image.fromarray(img[rand]).convert('RGB')\n",
        "image.show()"
      ],
      "metadata": {
        "id": "ulo69bfNcRWc"
      },
      "execution_count": 15,
      "outputs": []
    },
    {
      "cell_type": "code",
      "source": [
        "from torchvision import transforms\n",
        "from torchvision.transforms import ToTensor\n",
        "\n",
        "image_size = 256\n",
        "transform = transforms.Compose([\n",
        "                               transforms.Resize(image_size, antialias=True),\n",
        "                               transforms.CenterCrop(image_size),\n",
        "                               transforms.ToTensor(),\n",
        "                               transforms.Normalize((0.5, 0.5, 0.5), (0.5, 0.5, 0.5)),\n",
        "                           ])\n",
        "\n",
        "img_tensor = transform(image) # stores the tensor that represents the image"
      ],
      "metadata": {
        "id": "AGxL53JCduCk"
      },
      "execution_count": 16,
      "outputs": []
    },
    {
      "cell_type": "code",
      "source": [
        "model(img_tensor.unsqueeze(0)).backward()"
      ],
      "metadata": {
        "colab": {
          "base_uri": "https://localhost:8080/"
        },
        "id": "ynP9qPZAdzVI",
        "outputId": "0b0f8b37-cd4e-4a23-a52d-8583ad13bb0d"
      },
      "execution_count": 17,
      "outputs": [
        {
          "output_type": "stream",
          "name": "stdout",
          "text": [
            "Forward hook running...\n",
            "Activations size: torch.Size([1, 1024, 8, 8])\n",
            "Backward hook running...\n",
            "Gradients size: torch.Size([1, 1024, 8, 8])\n"
          ]
        }
      ]
    },
    {
      "cell_type": "markdown",
      "source": [
        "## Computing Grad-CAM"
      ],
      "metadata": {
        "id": "aTG8kz7peBQI"
      }
    },
    {
      "cell_type": "code",
      "source": [
        "# pool the gradients across the channels\n",
        "pooled_gradients = torch.mean(gradients[0], dim=[0, 2, 3])"
      ],
      "metadata": {
        "id": "41t99DmjeE8O"
      },
      "execution_count": 18,
      "outputs": []
    },
    {
      "cell_type": "code",
      "source": [
        "import torch.nn.functional as F\n",
        "import matplotlib.pyplot as plt\n",
        "\n",
        "# weight the channels by corresponding gradients\n",
        "for i in range(activations.size()[1]):\n",
        "  activations[:, i, : :] *= pooled_gradients[i]\n",
        "\n",
        "# average the channels of the activations\n",
        "heatmap = torch.mean(activations, dim=1).squeeze()\n",
        "\n",
        "# relu on top of the heatmap\n",
        "heatmap = F.relu(heatmap)\n",
        "\n",
        "# normalize the heatmap\n",
        "heatmap /= torch.max(heatmap)\n",
        "\n",
        "# Move the heatmap to the CPU and convert it to a NumPy array\n",
        "heatmap_cpu = heatmap.cpu().detach().numpy()\n",
        "\n",
        "# draw the heatmap\n",
        "plt.matshow(heatmap_cpu)"
      ],
      "metadata": {
        "colab": {
          "base_uri": "https://localhost:8080/",
          "height": 454
        },
        "id": "1LCtK-PTeHV7",
        "outputId": "4173a1d9-4252-4a88-a466-e0044b33661e"
      },
      "execution_count": 19,
      "outputs": [
        {
          "output_type": "execute_result",
          "data": {
            "text/plain": [
              "<matplotlib.image.AxesImage at 0x7b96f97f2560>"
            ]
          },
          "metadata": {},
          "execution_count": 19
        },
        {
          "output_type": "display_data",
          "data": {
            "text/plain": [
              "<Figure size 480x480 with 1 Axes>"
            ],
            "image/png": "[encoded data removed]"
          },
          "metadata": {}
        }
      ]
    },
    {
      "cell_type": "markdown",
      "source": [
        "## Combining Heatmap and Image"
      ],
      "metadata": {
        "id": "a_GQKY4Uf-02"
      }
    },
    {
      "cell_type": "code",
      "source": [
        "from torchvision.transforms.functional import to_pil_image\n",
        "from matplotlib import colormaps\n",
        "import numpy as np\n",
        "import PIL\n",
        "\n",
        "# Plot image\n",
        "fig, ax = plt.subplots()\n",
        "ax.axis('off')\n",
        "\n",
        "# Convert img_tensor to a PIL image and get its size\n",
        "img_pil = to_pil_image(img_tensor, mode='RGB')\n",
        "width, height = img_pil.size\n",
        "\n",
        "# Plot original image\n",
        "ax.imshow(to_pil_image(img_tensor, mode='RGB'))\n",
        "\n",
        "# Resize heatmap and overlay\n",
        "overlay = to_pil_image(heatmap.detach(), mode='F').resize((width, height),\n",
        "                                                          resample=PIL.Image.BICUBIC)\n",
        "\n",
        "# Apply colormap\n",
        "cmap = colormaps['jet']\n",
        "overlay = (255 * cmap(np.asarray(overlay) ** 2)[:, :, :3]).astype(np.uint8)\n",
        "\n",
        "# Plot the heatmap on the same axes\n",
        "ax.imshow(overlay, alpha=0.4,\n",
        "          interpolation='nearest', extent=[0, width, height, 0])\n",
        "\n",
        "# Show the plot\n",
        "plt.show()"
      ],
      "metadata": {
        "colab": {
          "base_uri": "https://localhost:8080/",
          "height": 406
        },
        "id": "Kn95b0dvgBsy",
        "outputId": "c11299b5-0bfe-4484-8267-6eb720bbec57"
      },
      "execution_count": 20,
      "outputs": [
        {
          "output_type": "display_data",
          "data": {
            "text/plain": [
              "<Figure size 640x480 with 1 Axes>"
            ],
            "image/png": "[encoded data removed]"
          },
          "metadata": {}
        }
      ]
    }
  ]
}